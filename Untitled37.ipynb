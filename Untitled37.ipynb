{
  "nbformat": 4,
  "nbformat_minor": 0,
  "metadata": {
    "colab": {
      "provenance": []
    },
    "kernelspec": {
      "name": "python3",
      "display_name": "Python 3"
    },
    "language_info": {
      "name": "python"
    }
  },
  "cells": [
    {
      "cell_type": "markdown",
      "source": [
        "# **Tarea: Teoría cuántica básica, Observables y Medidas**\n",
        "\n",
        "Por: Juan sebastián Fajardo Acevedo"
      ],
      "metadata": {
        "id": "-34QJt59u_W9"
      }
    },
    {
      "cell_type": "markdown",
      "source": [
        "# Simule el primer sistema cuántico descrito en la sección 4.1.\n",
        "\n",
        "El sistema consiste en una partícula confinada a un conjunto discreto de posiciones en una línea. El simulador debe permitir especificar el número de posiciones y un vector ket de estado asignando las amplitudes.\n",
        "\n",
        "1. El sistema debe calcular la probabilidad de encontrarlo en una posición en particular.\n",
        "\n",
        "2. El sistema si se le da otro vector Ket debe buscar la probabilidad de transitar del primer vector al segundo."
      ],
      "metadata": {
        "id": "sN2hZVsru_au"
      }
    },
    {
      "cell_type": "code",
      "source": [
        "import numpy as np\n",
        "\n",
        "def normalize_ket(ket):\n",
        "    norm = np.linalg.norm(ket)\n",
        "    if norm == 0:\n",
        "        raise ValueError(\"El vector ket no puede ser el vector cero.\")\n",
        "    return ket / norm\n",
        "\n",
        "def probability_of_position(ket):\n",
        "    return np.abs(ket) ** 2\n",
        "\n",
        "def transition_probability(ket1, ket2):\n",
        "    ket1 = normalize_ket(ket1)\n",
        "    ket2 = normalize_ket(ket2)\n",
        "    return np.abs(np.vdot(ket1, ket2)) ** 2\n",
        "\n",
        "# Ejemplo\n",
        "num_positions = 5  # EL número de posiciones discretas\n",
        "dim = num_positions\n",
        "\n",
        "# estado ket inicial\n",
        "ket1 = np.array([1+0j, 0.5+0.5j, 0, 0.5-0.5j, 1+0j])\n",
        "ket1 = normalize_ket(ket1)\n",
        "\n",
        "# Calcular la probabilidad de encontrar la partícula en cada posición\n",
        "probabilities = probability_of_position(ket1)\n",
        "print(\"Probabilidades de encontrar la partícula en cada posición:\", probabilities)\n",
        "\n",
        "# otro estado ket\n",
        "ket2 = np.array([0, 1, 0, 0, 0])\n",
        "ket2 = normalize_ket(ket2)\n",
        "\n",
        "# Calcular la probabilidad de transición del ket1 a ket2\n",
        "trans_prob = transition_probability(ket1, ket2)\n",
        "print(\"Probabilidad de transición de ket1 a ket2:\", trans_prob)"
      ],
      "metadata": {
        "colab": {
          "base_uri": "https://localhost:8080/"
        },
        "id": "2Eq51oaKxOzG",
        "outputId": "9b8c3d6d-8252-41bf-893e-a793908b290c"
      },
      "execution_count": 2,
      "outputs": [
        {
          "output_type": "stream",
          "name": "stdout",
          "text": [
            "Probabilidades de encontrar la partícula en cada posición: [0.33333333 0.16666667 0.         0.16666667 0.33333333]\n",
            "Probabilidad de transición de ket1 a ket2: 0.1666666666666667\n"
          ]
        }
      ]
    },
    {
      "cell_type": "markdown",
      "source": [
        "#Complete los retos de programación del capítulo 4.\n",
        "\n",
        "1. Amplitud de transición. El sistema puede recibir dos vectores y calcular la probabilidad de transitar de el uno al otro después de hacer la observación\n",
        "\n",
        "2. Ahora con una matriz que describa un observable y un vector ket, el sistema revisa que la matriz sea hermitiana, y si lo es, calcula la media y la varianza del observable en el estado dado.\n",
        "\n",
        "3. El sistema calcula los valores propios del observable y la probabilidad de que el sistema transite a alguno de los vectores propios después de la observación.\n",
        "\n",
        "4. Se considera la dinámica del sistema. Ahora con una serie de matrices Un el sistema calcula el estado final a partir de un estado inicial."
      ],
      "metadata": {
        "id": "GSMt06glvhRe"
      }
    },
    {
      "cell_type": "code",
      "source": [
        "\n",
        "\n",
        "# 1️ Calcular la probabilidad de transición entre dos kets\n",
        "def transition_probability(ket1, ket2):\n",
        "    \"\"\"\n",
        "    Calcula la probabilidad de transitar de ket1 a ket2 después de una observación.\n",
        "    \"\"\"\n",
        "    inner_product = np.vdot(ket1, ket2)  # es el producto interno\n",
        "    probability = np.abs(inner_product) ** 2 / (np.linalg.norm(ket1) ** 2 * np.linalg.norm(ket2) ** 2)\n",
        "    return probability\n",
        "\n",
        "# 2️ Verificar si una matriz es hermitiana y calcular la media y varianza del observable\n",
        "def observable_statistics(observable, ket):\n",
        "    \"\"\"\n",
        "    Verifica si el observable es hermitiano y calcula la media y varianza en el estado dado.\n",
        "    \"\"\"\n",
        "    if not np.allclose(observable, observable.conj().T):  # la condición de hermiticidad\n",
        "        raise ValueError(\"La matriz no es hermitiana.\")\n",
        "\n",
        "    mean_value = np.vdot(ket, observable @ ket)  # Esperanza ⟨ψ|A|ψ⟩\n",
        "    variance = np.vdot(ket, (observable - mean_value * np.eye(len(ket))) @ ket)  # ⟨ψ|(A - ⟨A⟩)^2|ψ⟩\n",
        "    return mean_value.real, variance.real\n",
        "\n",
        "# 3️ Calcular valores propios y probabilidad de transición a cada eigenvector\n",
        "def eigenvalues_and_probabilities(observable, ket):\n",
        "    \"\"\"\n",
        "    Calcula los valores propios de un observable y las probabilidades de transición a cada eigenvector.\n",
        "    \"\"\"\n",
        "    eigenvalues, eigenvectors = np.linalg.eigh(observable)  # Eigenvalores y eigenvectores\n",
        "    probabilities = np.abs(eigenvectors.conj().T @ ket) ** 2  # Probabilidad |⟨φ|ψ⟩|²\n",
        "    return eigenvalues, probabilities\n",
        "\n",
        "# 4️ Aplicar una secuencia de matrices unitarias a un estado inicial\n",
        "def evolve_state(ket, unitary_matrices):\n",
        "    \"\"\"\n",
        "    Calcula el estado final tras aplicar una secuencia de matrices unitarias.\n",
        "    \"\"\"\n",
        "    final_state = ket\n",
        "    for U in unitary_matrices:\n",
        "        if not np.allclose(U.conj().T @ U, np.eye(len(U))):  # Verifica que U sea unitaria\n",
        "            raise ValueError(\"Una de las matrices no es unitaria.\")\n",
        "        final_state = U @ final_state  # Aplicación sucesiva de matrices\n",
        "    return final_state\n",
        "\n",
        "# 5️ Extensión a múltiples partículas\n",
        "def multi_particle_system(num_particles, dim):\n",
        "    \"\"\"\n",
        "    Genera un sistema con múltiples partículas en un espacio de Hilbert de dimensión 'dim'.\n",
        "    \"\"\"\n",
        "    states = [np.random.rand(dim) + 1j * np.random.rand(dim) for _ in range(num_particles)]\n",
        "    states = [state / np.linalg.norm(state) for state in states]  # Normalización\n",
        "    return states\n"
      ],
      "metadata": {
        "id": "s_1FJVX6zS3g"
      },
      "execution_count": 3,
      "outputs": []
    },
    {
      "cell_type": "markdown",
      "source": [
        "# Realice los siguientes problemas e incluyalos como ejemplos\n",
        "\n",
        "Modele en su librería los problemas\n",
        "\n",
        "4.3.1\n",
        "\n",
        "4.3.2\n",
        "\n",
        "4.4.1\n",
        "\n",
        "4.4.2\n",
        "\n",
        "Desarrolle e incluya en el Github una discusión de los ejercicios 4.5.2 y 4.5.3"
      ],
      "metadata": {
        "id": "NR2-SuRDvhVd"
      }
    }
  ]
}